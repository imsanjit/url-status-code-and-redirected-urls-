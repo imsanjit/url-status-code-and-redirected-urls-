{
  "nbformat": 4,
  "nbformat_minor": 0,
  "metadata": {
    "colab": {
      "name": "Check Url status code",
      "provenance": [],
      "collapsed_sections": []
    },
    "kernelspec": {
      "name": "python3",
      "display_name": "Python 3"
    }
  },
  "cells": [
    {
      "cell_type": "code",
      "metadata": {
        "id": "_18Uol_FqneW",
        "colab_type": "code",
        "colab": {}
      },
      "source": [
        "try:\n",
        "  import requests\n",
        "  import csv\n",
        "  from IPython.display import clear_output\n",
        "  from google.colab import files\n",
        "except:\n",
        "  print(\"Error while loading library\")\n",
        "\n",
        "def get_status_code(url):\n",
        "    try:\n",
        "        r = requests.get(url)\n",
        "        clear_output(wait=True)\n",
        "        print(f'Processing line number {number_of_urls}: \\n{url}')\n",
        "        if len(r.history) > 0:\n",
        "            chain = \"\"\n",
        "            code = r.history[0].status_code\n",
        "            final_url = r.url\n",
        "            for resp in r.history:\n",
        "                chain += resp.url + \" | \"\n",
        "            return str(code) + '\\t' + final_url + '\\t'\n",
        "        else:\n",
        "            return str(r.status_code) + '\\t\\t\\t\\t'\n",
        "    except requests.ConnectionError:\n",
        "        print(\"Error: failed to connect.\")\n",
        "        return '0\\t\\t\\t\\t'\n",
        "\n",
        "uploaded = files.upload()\n",
        "ks = list(uploaded)\n",
        "input_file = ks[0]\n",
        "output_file = 'redirection_status_code_&_redireded_urls.csv'\n",
        "\n",
        "number_of_urls = 0\n",
        "\n",
        "with open(output_file, 'w') as o_file:\n",
        "    o_file.write('Input_URL\\tStatus_Code\\tRedirected_URLs\\t\\n')\n",
        "    f = open(input_file, \"r\")\n",
        "    lines = f.read().splitlines()\n",
        "    for line in lines:\n",
        "        line = line.strip(\"\\n\")\n",
        "        number_of_urls += 1\n",
        "        code = get_status_code(line)\n",
        "        o_file.write(line + \"\\t\" + str(code) + \"\\t\\n\")\n",
        "    f.close()\n",
        "try:\n",
        "  files.download(\"redirection_status_code_&_redireded_urls.csv\")\n",
        "  print(f'\\nAll Done \\nFile Downloaded with file name \"{output_file}\"')\n",
        "except:\n",
        "  print(f'Kindly Download your file from left nav folder. File name is \"redirection_status_code_&_redireded_urls.csv\"')"
      ],
      "execution_count": 0,
      "outputs": []
    }
  ]
}